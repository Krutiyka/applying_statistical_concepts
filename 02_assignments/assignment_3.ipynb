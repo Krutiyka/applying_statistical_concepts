{
 "cells": [
  {
   "cell_type": "markdown",
   "id": "7b0bcac6-5086-4f4e-928a-570a9ff7ae58",
   "metadata": {},
   "source": [
    "# Assignment 3"
   ]
  },
  {
   "cell_type": "markdown",
   "id": "5fce0350-2a17-4e93-8d4c-0b8748fdfc32",
   "metadata": {},
   "source": [
    "As before, if a question can be answered with 'yes/no', or a numeric value, you may simply state as much. If you incorporate code from the internet (which is not required and generally not advisable), please cite the source within your code (providing a URL is sufficient).\n",
    "\n",
    "We will go through comparable code and concepts in the live learning session. If you run into trouble, start by using the help `help()` function in Python, to get information about the datasets and function in question. The internet is also a great resource when coding (though note that no outside searches are required by the assignment!). If you do incorporate code from the internet, please cite the source within your code (providing a URL is sufficient).\n",
    "\n",
    "Please bring questions that you cannot work out on your own to office hours, work periods or share with your peers on Slack. We will work with you through the issue."
   ]
  },
  {
   "cell_type": "code",
   "execution_count": 24,
   "id": "b92f7c91",
   "metadata": {},
   "outputs": [],
   "source": [
    "import numpy as np\n",
    "import pandas as pd\n",
    "import matplotlib.pyplot as plt\n",
    "import statsmodels.api as sm"
   ]
  },
  {
   "cell_type": "markdown",
   "id": "d7fff1dd-e4ce-4a60-96a0-d08136e9bf5e",
   "metadata": {},
   "source": [
    "### Question 1: Resampling via Bootstrapping\n",
    "\n",
    "Now, we'll use the `iris` dataset, which we will add to Python using the `statsmodels` library. As always, start by reviewing a description of the dataset, by printing the dataset."
   ]
  },
  {
   "cell_type": "code",
   "execution_count": 25,
   "id": "47f4dcf5-0d4c-41ea-892d-d9f2c1aa1859",
   "metadata": {},
   "outputs": [],
   "source": [
    "# Import\n",
    "iris = sm.datasets.get_rdataset('iris', 'datasets')\n",
    "df = pd.DataFrame(iris.data)"
   ]
  },
  {
   "cell_type": "markdown",
   "id": "7717a32c",
   "metadata": {},
   "source": [
    "_(i)_ Create an `alpha_func(D, idx)` function which takes the `Sepal`'s `width` and `length` to calculate for alpha"
   ]
  },
  {
   "cell_type": "code",
   "execution_count": 26,
   "id": "f3da5483",
   "metadata": {},
   "outputs": [
    {
     "name": "stdout",
     "output_type": "stream",
     "text": [
      "0.7580390244311441\n"
     ]
    }
   ],
   "source": [
    "# Your code here\n",
    "\n",
    "# Define the alpha_func function\n",
    "def alpha_func(D, idx):\n",
    "    # Calculate the covariance matrix for Sepal width and Sepal length at the given index/indices\n",
    "    cov = np.cov(D[['Sepal.Width', 'Sepal.Length']].loc[idx], rowvar=False)\n",
    "    # Compute alpha using the elements of the covariance matrix\n",
    "    return (cov[1, 1] - cov[0, 1]) / (cov[0, 0] + cov[1, 1] - 2 * cov[0, 1])\n",
    "\n",
    "# Calculate alpha values for all rows in the dataframe using the alpha_func\n",
    "alpha_original = alpha_func(df, range(len(df)))\n",
    "print(alpha_original)\n"
   ]
  },
  {
   "cell_type": "markdown",
   "id": "ff94d66b",
   "metadata": {},
   "source": [
    "Test the code below"
   ]
  },
  {
   "cell_type": "code",
   "execution_count": 27,
   "id": "eda715cd",
   "metadata": {},
   "outputs": [
    {
     "data": {
      "text/plain": [
       "0.6189498510165619"
      ]
     },
     "execution_count": 27,
     "metadata": {},
     "output_type": "execute_result"
    }
   ],
   "source": [
    "alpha_func(df, range(100))"
   ]
  },
  {
   "cell_type": "markdown",
   "id": "f338b14e",
   "metadata": {},
   "source": [
    "_(ii)_ Construct a new bootstrap data set and recompute alpha"
   ]
  },
  {
   "cell_type": "code",
   "execution_count": 28,
   "id": "34ee835f",
   "metadata": {},
   "outputs": [
    {
     "name": "stdout",
     "output_type": "stream",
     "text": [
      "Bootstrap alpha values: 0.6675354865158225\n"
     ]
    }
   ],
   "source": [
    "# Create a random number generator with a seed value of 0\n",
    "rng = np.random.default_rng(0)\n",
    "\n",
    "# Generate a bootstrap sample by randomly selecting indices from 0 to 99 with replacement\n",
    "alpha_bootstrap = alpha_func(df, rng.choice(100, 100, replace=True))\n",
    "\n",
    "print(f\"Bootstrap alpha values: {alpha_bootstrap}\")"
   ]
  },
  {
   "cell_type": "markdown",
   "id": "056080ff-7aec-41aa-bb61-763b390e4cf2",
   "metadata": {},
   "source": [
    "Imagine we are analysts working for a shipping company. The company wants to know the average length of iris' petals, to inform space allotment on an upcoming shipment. The relevant variable in the dataset is `Sepal.Length`. \n",
    "\n",
    "_(iii)_ Why is it (perhaps) not sufficient to simply calculate the mean of `Sepal.Length`? What more information will preforming a bootstrap provide to us?  \n",
    "\n",
    "_(iv)_ We can perform bootstrapping in Python by defining a simple function using `boot_SE()` for computing the bootstrap standard error. Remember, because bootstrapping involves randomness, we must first set a seed for reproducibility!"
   ]
  },
  {
   "cell_type": "code",
   "execution_count": 33,
   "id": "77540f76-7747-4dba-8e77-e1ded54af536",
   "metadata": {},
   "outputs": [],
   "source": [
    "# Add your code here to set the seed\n",
    "\n",
    "# (iii) It is incorrect to use the Sepal.Length variable to calculate the average petal length, as Sepal.Length represents the length of the sepals, not the petals. \n",
    "# The relevant variable for petal length is Petal.Length.Simply calculating the mean of Petal.Length may not provide a complete picture, \n",
    "# as it does not account for the variability or uncertainty in the estimate. The mean alone does not give information about the distribution of petal lengths or the precision of the estimate. \n",
    "# Performing bootstrapping can provide the additional information, like estimate the sampling distribution, calculate confidence intervals, assess bias and skewness, robustness to assumptions.\n",
    "# By performing bootstrapping, analysts gain valuable insights into the variability and uncertainty associated with the estimate of the average petal length, which is crucial for making \n",
    "# informed decisions about space allotment for the upcoming shipment.\n",
    "\n",
    "# (iv) Answer: By setting a seed, we ensure that the random resampling process in bootstrapping is reproducible, which is essential for consistent results and debugging purposes.\n",
    "\n",
    "# Initialize an empty list to store bootstrap values\n",
    "bootstrap_values = []\n",
    "\n",
    "def boot_SE(D, alpha_func, B=1000, seed=33):\n",
    "    \"\"\"\n",
    "    Compute the bootstrap standard error of alpha estimates.\n",
    "\n",
    "    Args:\n",
    "        D (pandas.DataFrame): Input data.\n",
    "        alpha_func (function): Function to compute the statistic of interest (e.g., mean).\n",
    "        B (int, optional): Number of bootstrap samples. Default is 1000.\n",
    "        seed (int, optional): Seed for random number generator. Default is 0.\n",
    "\n",
    "    Returns:\n",
    "        float: Bootstrap standard error.\n",
    "    \"\"\"\n",
    "    rng = np.random.default_rng(seed)\n",
    "    n = D.shape[0]\n",
    "\n",
    "    # Loop through B bootstrap samples\n",
    "    for i in range(B):\n",
    "        idx = rng.choice(D.index, n, replace=True)\n",
    "        value = alpha_func(D, idx)\n",
    "        bootstrap_values.append(value)\n",
    "\n",
    "    return np.std(np.array(bootstrap_values))\n"
   ]
  },
  {
   "cell_type": "markdown",
   "id": "8a543472",
   "metadata": {},
   "source": [
    "_(v)_ Evaluate the accuracy of our alpha estimate with B = 1000"
   ]
  },
  {
   "cell_type": "code",
   "execution_count": 51,
   "id": "9ed41c4e",
   "metadata": {},
   "outputs": [
    {
     "name": "stdout",
     "output_type": "stream",
     "text": [
      "Bootstrap Standard Error of Alpha: 0.03136171510721751\n"
     ]
    }
   ],
   "source": [
    "# Example DataFrame\n",
    "#df = pd.DataFrame({'values': np.random.randn(100)})  # Create a DataFrame with 100 random values\n",
    "\n",
    "# Evaluate the bootstrap standard error of alpha with B = 1000 bootstrap samples\n",
    "alpha_SE = boot_SE(df, alpha_func, B=1000, seed=0)\n",
    "\n",
    "# Print the calculated bootstrap standard error\n",
    "print(f\"Bootstrap Standard Error of Alpha: {alpha_SE}\")"
   ]
  },
  {
   "cell_type": "markdown",
   "id": "785fe758-f395-40b6-a9a3-28ec2efeba29",
   "metadata": {},
   "source": [
    "_(vi)_ What is the original mean value of `Sepal.Length`?\n"
   ]
  },
  {
   "cell_type": "code",
   "execution_count": 56,
   "id": "ac71c877",
   "metadata": {},
   "outputs": [
    {
     "name": "stdout",
     "output_type": "stream",
     "text": [
      "Original mean value of sepal length: 5.843333333333334\n"
     ]
    }
   ],
   "source": [
    "# Calculate the mean value of Sepal.Length\n",
    "\n",
    "print(f\"Original mean value of sepal length: {np.mean(df['Sepal.Length'])}\")"
   ]
  },
  {
   "cell_type": "markdown",
   "id": "cce9c2f1",
   "metadata": {},
   "source": [
    "Next, let's look _inside_ our bootstrapping to understand the new, bootstrapped sample we have created. Let's review the bootstrapped range, by using `t_range = np.ptp(boot_se_samples)`.\n",
    "\n",
    "_(vii)_. Write code to review the bootstrapped mean value, and the standard deviation of the bootstrapped samples. Compare the mean against its original value."
   ]
  },
  {
   "cell_type": "code",
   "execution_count": 61,
   "id": "7686243c",
   "metadata": {},
   "outputs": [
    {
     "name": "stdout",
     "output_type": "stream",
     "text": [
      "The original mean value of Sepal.Length is: 5.843333333333334\n",
      "The bootstrapped mean value of Sepal.Length is: 5.842043333333333\n",
      "The bootstrapped standard deviation of Sepal.Length is: 0.0703228292336318\n",
      "The range of the bootstrapped samples is: 0.4460000000000006\n"
     ]
    }
   ],
   "source": [
    "# Extract the Sepal.Length column values from the DataFrame and convert to a numpy array\n",
    "sepal_length_data = df['Sepal.Length'].values\n",
    "\n",
    "# Define the function to generate bootstrap samples and calculate statistics\n",
    "def bootstrap_samples(data, n_bootstrap, seed=0):\n",
    "    \"\"\"\n",
    "    Generate bootstrap samples and calculate their means and standard deviation.\n",
    "\n",
    "    Parameters:\n",
    "    - data: The dataset (array-like) to bootstrap.\n",
    "    - n_bootstrap: The number of bootstrap samples to generate.\n",
    "    - seed: Random seed for reproducibility (default is 0).\n",
    "\n",
    "    Returns:\n",
    "    - bootstrap_means: Array of means for each bootstrap sample.\n",
    "    - boot_mean: Mean of the bootstrap sample means.\n",
    "    - boot_std: Standard deviation of the bootstrap sample means.\n",
    "    \"\"\"\n",
    "    rng = np.random.default_rng(seed)  # Create a random number generator with the given seed\n",
    "    bootstrap_means = []  # List to store the means of bootstrap samples\n",
    "\n",
    "    # Generate bootstrap samples and calculate their means\n",
    "    for _ in range(n_bootstrap):\n",
    "        bootstrap_sample = rng.choice(data, size=len(data), replace=True)  # Generate a bootstrap sample\n",
    "        bootstrap_means.append(np.mean(bootstrap_sample))  # Calculate and store the mean of the bootstrap sample\n",
    "    \n",
    "    bootstrap_means = np.array(bootstrap_means)  # Convert the list to a numpy array\n",
    "    boot_mean = np.mean(bootstrap_means)  # Calculate the mean of the bootstrap sample means\n",
    "    boot_std = np.std(bootstrap_means, ddof=1)  # Calculate the standard deviation of the bootstrap sample means\n",
    "\n",
    "    return bootstrap_means, boot_mean, boot_std  # Return the bootstrap means, their mean, and their standard deviation\n",
    "\n",
    "# Generate bootstrap samples and calculate statistics for the Sepal.Length data\n",
    "boot_se_samples, boot_mean, boot_std = bootstrap_samples(sepal_length_data, n_bootstrap=1000, seed=13)\n",
    "\n",
    "# Calculate the mean of the original Sepal.Length data\n",
    "mean_sepal_length = df['Sepal.Length'].mean()\n",
    "\n",
    "# Print the original mean value of Sepal.Length\n",
    "print(f\"The original mean value of Sepal.Length is: {mean_sepal_length}\")\n",
    "\n",
    "# Print the bootstrapped mean value of Sepal.Length\n",
    "print(f\"The bootstrapped mean value of Sepal.Length is: {boot_mean}\")\n",
    "\n",
    "# Print the bootstrapped standard deviation of Sepal.Length\n",
    "print(f\"The bootstrapped standard deviation of Sepal.Length is: {boot_std}\")\n",
    "\n",
    "# Calculate the range (peak-to-peak) of the bootstrap sample means\n",
    "t_range = np.ptp(boot_se_samples)\n",
    "\n",
    "# Print the range of the bootstrapped samples\n",
    "print(f\"The range of the bootstrapped samples is: {t_range}\")"
   ]
  },
  {
   "cell_type": "markdown",
   "id": "66c6c663-f3bb-4a15-8896-6dccfb7259fd",
   "metadata": {},
   "source": [
    "_(viii)_ Next, let's compute 95% confidence intervals, for the mean value of iris petal length. (Hint: use the `np.percentile` function)"
   ]
  },
  {
   "cell_type": "code",
   "execution_count": 64,
   "id": "74de4a76-e500-4c93-82a9-e7365cc86c91",
   "metadata": {},
   "outputs": [
    {
     "name": "stdout",
     "output_type": "stream",
     "text": [
      "The 95-percent confidence interval for the mean of iris Sepal.Length:  [5.70061667 5.98001667]\n"
     ]
    }
   ],
   "source": [
    "# Compute the 95% confidence intervals\n",
    "conf_interval = np.percentile(boot_se_samples, [2.5, 97.5])\n",
    "\n",
    "print(\"The 95-percent confidence interval for the mean of iris Sepal.Length: \", conf_interval)"
   ]
  },
  {
   "cell_type": "markdown",
   "id": "488e54f7-ebe4-4740-835c-9832320005d0",
   "metadata": {},
   "source": [
    "_(ix)_. Use the plot function to create an histogram of the bootstrapped samples. What does this histogram show ?"
   ]
  },
  {
   "cell_type": "code",
   "execution_count": 76,
   "id": "4fca4e3f",
   "metadata": {},
   "outputs": [
    {
     "data": {
      "image/png": "[encoded data removed]",
      "text/plain": [
       "<Figure size 640x480 with 1 Axes>"
      ]
     },
     "metadata": {},
     "output_type": "display_data"
    }
   ],
   "source": [
    "#Complete this\n",
    "\n",
    "# Create a figure and axis\n",
    "fig, ax = plt.subplots()\n",
    "\n",
    "# Create the histogram\n",
    "ax.hist(boot_se_samples, bins=30, color='g', edgecolor='black')\n",
    "ax.axvline(boot_mean, color='b', linestyle='dashed', linewidth=1, label='Bootstrapped Mean')\n",
    "\n",
    "# Add a title\n",
    "ax.set_title('Bootstrapped Mean Values of Sepal.Length')\n",
    "\n",
    "# Add a label to the x-axis\n",
    "ax.set_xlabel('Bootstrapped Mean of Sepal.Length')\n",
    "\n",
    "# Add a label to the y-axis\n",
    "ax.set_ylabel('Frequency')\n",
    "\n",
    "# Show the plot\n",
    "plt.show()"
   ]
  },
  {
   "cell_type": "markdown",
   "id": "bfa9a095-9c7a-4ab5-aa99-b11bf419fae0",
   "metadata": {},
   "source": [
    "_(x)_ Given your bootstrapped analysis, what do you recommend to shipping company? "
   ]
  },
  {
   "cell_type": "code",
   "execution_count": null,
   "id": "5e83202e-4aab-44bb-8586-5d0e82e9e201",
   "metadata": {},
   "outputs": [],
   "source": [
    "# In summary, the shipping company should anticipate an average Sepal.Length of around 5.84 units\n",
    "# and should ensure sufficient flexibility to accommodate lengths up to roughly 5.99 units."
   ]
  },
  {
   "cell_type": "markdown",
   "id": "466943e8",
   "metadata": {},
   "source": [
    "# Criteria\n",
    "\n",
    "|Criteria            |Complete           |Incomplete          |\n",
    "|--------------------|---------------|--------------|\n",
    "|Bootstrapping|All steps are done correctly and the answers are correct.|At least one step is done incorrectly leading to a wrong answer.|"
   ]
  },
  {
   "cell_type": "markdown",
   "id": "68b8a226",
   "metadata": {},
   "source": [
    "## Submission Information\n",
    "\n",
    "🚨 **Please review our [Assignment Submission Guide](https://github.com/UofT-DSI/onboarding/blob/main/onboarding_documents/submissions.md)** 🚨 for detailed instructions on how to format, branch, and submit your work. Following these guidelines is crucial for your submissions to be evaluated correctly.\n",
    "\n",
    "### Note:\n",
    "\n",
    "If you like, you may collaborate with others in the cohort. If you choose to do so, please indicate with whom you have worked with in your pull request by tagging their GitHub username. Separate submissions are required.\n",
    "\n",
    "\n",
    "### Submission Parameters:\n",
    "* Submission Due Date: `HH:MM AM/PM - DD/MM/YYYY`\n",
    "* The branch name for your repo should be: `assignment-3`\n",
    "* What to submit for this assignment:\n",
    "    * This Jupyter Notebook (assignment_3.ipynb) should be populated and should be the only change in your pull request.\n",
    "* What the pull request link should look like for this assignment: `https://github.com/<your_github_username>/applying_statistical_concepts/pull/<pr_id>`\n",
    "    * Open a private window in your browser. Copy and paste the link to your pull request into the address bar. Make sure you can see your pull request properly. This helps the technical facilitator and learning support staff review your submission easily.\n",
    "\n",
    "Checklist:\n",
    "- [ ] Created a branch with the correct naming convention.\n",
    "- [ ] Ensured that the repository is public.\n",
    "- [ ] Reviewed the PR description guidelines and adhered to them.\n",
    "- [ ] Verify that the link is accessible in a private browser window.\n",
    "\n",
    "If you encounter any difficulties or have questions, please don't hesitate to reach out to our team via our Slack at `#cohort-3-help`. Our Technical Facilitators and Learning Support staff are here to help you navigate any challenges.\n"
   ]
  }
 ],
 "metadata": {
  "kernelspec": {
   "display_name": "Python 3.10.4",
   "language": "python",
   "name": "python3"
  },
  "language_info": {
   "codemirror_mode": {
    "name": "ipython",
    "version": 3
   },
   "file_extension": ".py",
   "mimetype": "text/x-python",
   "name": "python",
   "nbconvert_exporter": "python",
   "pygments_lexer": "ipython3",
   "version": "3.9.19"
  },
  "vscode": {
   "interpreter": {
    "hash": "497a84dc8fec8cf8d24e7e87b6d954c9a18a327edc66feb9b9ea7e9e72cc5c7e"
   }
  }
 },
 "nbformat": 4,
 "nbformat_minor": 5
}
